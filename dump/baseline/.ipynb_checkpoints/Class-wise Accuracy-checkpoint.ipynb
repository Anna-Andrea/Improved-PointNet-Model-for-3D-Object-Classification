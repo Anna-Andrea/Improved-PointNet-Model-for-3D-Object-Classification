{
 "cells": [
  {
   "cell_type": "code",
   "execution_count": null,
   "id": "e12c00c4-74b3-4619-b9ee-158d6c90021d",
   "metadata": {},
   "outputs": [],
   "source": [
    "import matplotlib.pyplot as plt\n",
    "import numpy as np\n",
    "import re\n",
    "\n",
    "# 读取 log_test.txt 文件\n",
    "with open('log_test.txt', 'r') as file:\n",
    "    content = file.read()\n",
    "\n",
    "# 从文本内容中提取类别和准确率信息\n",
    "class_accuracy = {}\n",
    "matches = re.findall(r'(\\w+):\\s+(\\d+\\.\\d+)', content)\n",
    "for class_name, accuracy in matches:\n",
    "    if class_name != 'loss' and class_name != 'accuracy' and class_name != 'acc': \n",
    "        class_accuracy[class_name] = float(accuracy)\n",
    "\n",
    "# 将预测准确率转换为numpy数组\n",
    "accuracy_values = np.array(list(class_accuracy.values()))\n",
    "\n",
    "# 根据预测准确率计算颜色\n",
    "colors = plt.cm.viridis(accuracy_values)  # 使用viridis色彩映射\n",
    "\n",
    "# 绘制条形图\n",
    "plt.figure(figsize=(10, 6))\n",
    "plt.barh(list(class_accuracy.keys()), list(class_accuracy.values()), color=colors)\n",
    "plt.xlabel('Test Accuracy')\n",
    "plt.ylabel('Classes')\n",
    "plt.title('Class-wise Test Accuracy (Baseline PointNet)')\n",
    "plt.gca().invert_yaxis()  # 反转y轴，使得条形图按照类别的顺序排列\n",
    "plt.show()"
   ]
  }
 ],
 "metadata": {
  "kernelspec": {
   "display_name": "Python 3 (ipykernel)",
   "language": "python",
   "name": "python3"
  },
  "language_info": {
   "codemirror_mode": {
    "name": "ipython",
    "version": 3
   },
   "file_extension": ".py",
   "mimetype": "text/x-python",
   "name": "python",
   "nbconvert_exporter": "python",
   "pygments_lexer": "ipython3",
   "version": "3.10.12"
  }
 },
 "nbformat": 4,
 "nbformat_minor": 5
}
